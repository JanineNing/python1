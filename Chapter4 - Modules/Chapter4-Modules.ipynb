{
 "cells": [
  {
   "cell_type": "markdown",
   "metadata": {},
   "source": [
    "# Modules"
   ]
  },
  {
   "cell_type": "markdown",
   "metadata": {},
   "source": [
    "**Dr. Pengfei Zhao**\n",
    "\n",
    "Finance Mathematics Program, \n",
    "\n",
    "BNU-HKBU United International College"
   ]
  },
  {
   "cell_type": "markdown",
   "metadata": {},
   "source": [
    "## 1. Introduction"
   ]
  },
  {
   "cell_type": "markdown",
   "metadata": {},
   "source": [
    "* You have seen how you can **reuse** code in your program by defining functions **once**. What if you wanted to reuse a number of functions in **other** programs that you write? The anwer is **Module**."
   ]
  },
  {
   "cell_type": "markdown",
   "metadata": {},
   "source": [
    "* A module is basically a file containing all your functions and variables that you have defined. To reuse the module in other programs, the filename of the module **must** have a `.py` extension."
   ]
  },
  {
   "cell_type": "markdown",
   "metadata": {},
   "source": [
    "#### Example 1"
   ]
  },
  {
   "cell_type": "code",
   "execution_count": 15,
   "metadata": {},
   "outputs": [
    {
     "name": "stdout",
     "output_type": "stream",
     "text": [
      "2.7.13 |Anaconda 2.4.0 (x86_64)| (default, Dec 20 2016, 23:05:08) \n",
      "[GCC 4.2.1 Compatible Apple LLVM 6.0 (clang-600.0.57)]\n",
      "The size of integer a (in byte) is:  24\n"
     ]
    }
   ],
   "source": [
    "import sys\n",
    "a = 1\n",
    "print sys.version # print the current working directory\n",
    "print 'The size of integer a (in byte) is: ', sys.getsizeof(a)"
   ]
  },
  {
   "cell_type": "markdown",
   "metadata": {},
   "source": [
    "* Let us go deeper to see what happened in above two statements.\n",
    "    * First, we **import** the `sys` module using the *import* statement. Basically, this translates to us  telling Python that we want to use this module. The `sys` module contains functionality related to the Python interpreter and its environment.\n",
    "    * When Python executes the `import sys` statement, it **looks for** the sys.py module in one of the directores listed in its `sys.path` variable. If the file is found, then the statements in the main block of that module is run and then the module is made available for you to use. Note that the initialization is done only **the first time** that we import a module. \n",
    "    * The `sys.path` variable contains the `current directory`, `PYTHONPATH`, and the `installation-dependent default`. If you want to build **your own** module, you have to put the module under the above sys.path directory."
   ]
  },
  {
   "cell_type": "markdown",
   "metadata": {},
   "source": [
    "## 2. Byte-compiled .pyc files"
   ]
  },
  {
   "cell_type": "markdown",
   "metadata": {},
   "source": [
    "* Importing a module is a relatively costly affair, so Python does some tricks to make it faster. One way is to create **byte-compiled** files with the extension .pyc which is related to the intermediate form that Python transforms the program into.\n",
    "* Much faster, since part of the processing required in importing a module is already done.\n",
    "* byte-compiled files are platform-independent, which means the module can be used in any platform, e.g. Window, Linux, Unix, Mac OS...\n",
    "* Hide the source code. In some cases the module source code is not appropriate to expose, but it is fine to be opened for others to use. You can consider to compile the source code to .pyc files first and only release the .pyc files. In this way, people can still use the module, but cannot view the source."
   ]
  },
  {
   "cell_type": "markdown",
   "metadata": {},
   "source": [
    "## 3. The from..import statement"
   ]
  },
  {
   "cell_type": "markdown",
   "metadata": {},
   "source": [
    "### 3.1 from ... import ..."
   ]
  },
  {
   "cell_type": "markdown",
   "metadata": {},
   "source": [
    "* Python's from statement lets you import specific attributes and fuctions **directly** from a module into the current namespace. The from...import has the following syntax"
   ]
  },
  {
   "cell_type": "markdown",
   "metadata": {},
   "source": [
    "```\n",
    "from modname import name1[, name2[, ... nameN]]\n",
    "```"
   ]
  },
  {
   "cell_type": "markdown",
   "metadata": {},
   "source": [
    "* For example, in example 1, we first `import sys`, then further access the module attribute by `sys.version` and the module function by `sys.getsizeof`. In below example, you can see that we can directly import the module attributes and function by `from...import...` statement."
   ]
  },
  {
   "cell_type": "markdown",
   "metadata": {},
   "source": [
    "#### Example 2"
   ]
  },
  {
   "cell_type": "code",
   "execution_count": 17,
   "metadata": {
    "collapsed": true
   },
   "outputs": [],
   "source": [
    "from sys import version, getsizeof"
   ]
  },
  {
   "cell_type": "code",
   "execution_count": 6,
   "metadata": {},
   "outputs": [
    {
     "data": {
      "text/plain": [
       "'2.7.13 |Anaconda 2.4.0 (x86_64)| (default, Dec 20 2016, 23:05:08) \\n[GCC 4.2.1 Compatible Apple LLVM 6.0 (clang-600.0.57)]'"
      ]
     },
     "execution_count": 6,
     "metadata": {},
     "output_type": "execute_result"
    }
   ],
   "source": [
    "version"
   ]
  },
  {
   "cell_type": "code",
   "execution_count": 20,
   "metadata": {},
   "outputs": [
    {
     "name": "stdout",
     "output_type": "stream",
     "text": [
      "Python integer size is:  24\n"
     ]
    }
   ],
   "source": [
    "print 'Python integer size is: ', getsizeof(1)"
   ]
  },
  {
   "cell_type": "markdown",
   "metadata": {},
   "source": [
    "### 3.2 from ... import *"
   ]
  },
  {
   "cell_type": "markdown",
   "metadata": {},
   "source": [
    "* It is also possible to import **all** attributes and functions from a module into the current namespace by using the `from ... import *` statement."
   ]
  },
  {
   "cell_type": "markdown",
   "metadata": {},
   "source": [
    "#### Example 3"
   ]
  },
  {
   "cell_type": "code",
   "execution_count": 21,
   "metadata": {
    "collapsed": true
   },
   "outputs": [],
   "source": [
    "from sys import *"
   ]
  },
  {
   "cell_type": "code",
   "execution_count": null,
   "metadata": {
    "collapsed": true
   },
   "outputs": [],
   "source": [
    "path"
   ]
  },
  {
   "cell_type": "markdown",
   "metadata": {},
   "source": [
    "* Since we import all things in module `sys`, we can output one of `sys` attributes `path`."
   ]
  },
  {
   "cell_type": "markdown",
   "metadata": {},
   "source": [
    "### 3.3 Common Practice"
   ]
  },
  {
   "cell_type": "markdown",
   "metadata": {},
   "source": [
    "* Even though using `from...import` statement saves us time to include module name in calling an attribute or function, they are **not** suggested. It is still recommended to use original `import module` method to import attributes and function, since it will make your program much more **readable**."
   ]
  },
  {
   "cell_type": "markdown",
   "metadata": {},
   "source": [
    "## 4. Others about Module"
   ]
  },
  {
   "cell_type": "markdown",
   "metadata": {},
   "source": [
    "### 4.1 The dir( ) Function"
   ]
  },
  {
   "cell_type": "markdown",
   "metadata": {},
   "source": [
    "* The `dir()` built-in function returns a sorted list of strings containing the names defined by a module.\n",
    "* The list contains the names of all the modules, variables and functions that are defined in a module."
   ]
  },
  {
   "cell_type": "markdown",
   "metadata": {},
   "source": [
    "#### Example 4"
   ]
  },
  {
   "cell_type": "code",
   "execution_count": 24,
   "metadata": {},
   "outputs": [
    {
     "name": "stdout",
     "output_type": "stream",
     "text": [
      "['__doc__', '__file__', '__name__', '__package__', 'acos', 'acosh', 'asin', 'asinh', 'atan', 'atan2', 'atanh', 'ceil', 'copysign', 'cos', 'cosh', 'degrees', 'e', 'erf', 'erfc', 'exp', 'expm1', 'fabs', 'factorial', 'floor', 'fmod', 'frexp', 'fsum', 'gamma', 'hypot', 'isinf', 'isnan', 'ldexp', 'lgamma', 'log', 'log10', 'log1p', 'modf', 'pi', 'pow', 'radians', 'sin', 'sinh', 'sqrt', 'tan', 'tanh', 'trunc']\n"
     ]
    }
   ],
   "source": [
    "import math\n",
    "print dir(math)"
   ]
  },
  {
   "cell_type": "markdown",
   "metadata": {},
   "source": [
    "### 4.2 A module's \\__name\\__"
   ]
  },
  {
   "cell_type": "markdown",
   "metadata": {},
   "source": [
    "* If you use `dir()` to check various modules, you can find every module has a \\__name\\__ variable. \n",
    "* A module can discover whether or not it is running in the main scope by checking its own \"\\__name\\__\" variable.\n",
    "* You may often see below codes:"
   ]
  },
  {
   "cell_type": "markdown",
   "metadata": {},
   "source": [
    "#### Example 5"
   ]
  },
  {
   "cell_type": "code",
   "execution_count": 25,
   "metadata": {},
   "outputs": [
    {
     "name": "stdout",
     "output_type": "stream",
     "text": [
      "This program is being run by itself\n"
     ]
    }
   ],
   "source": [
    "if __name__ == '__main__':\n",
    "    print 'Main block. This program is being run by itself'\n",
    "else:\n",
    "    print 'I am being imported from another module'"
   ]
  },
  {
   "cell_type": "markdown",
   "metadata": {},
   "source": [
    "*  A module’s \\__name\\__ is set equal to '__main__' when read from standard input, a script, or from an interactive prompt. If the module was imported from another module, the main block will not be executed."
   ]
  },
  {
   "cell_type": "markdown",
   "metadata": {},
   "source": [
    "### 4.3 Making your own Modules"
   ]
  },
  {
   "cell_type": "markdown",
   "metadata": {},
   "source": [
    "* Creating your own module is simple. You just need to write a `.py` file including the functions/attributes which need to be imported, and place the `.py` file under one of directories `sys.path` includes."
   ]
  },
  {
   "cell_type": "markdown",
   "metadata": {},
   "source": [
    " <img src=\"create-your-own-module.png\" width = \"480\" height = \"250\" alt=\"图片名称\" align=center />"
   ]
  },
  {
   "cell_type": "markdown",
   "metadata": {},
   "source": [
    "* Note, when you import the module, source file `module.py` will be compiled to `module.pyc`. Next time even though you delete the source file `module.py`, you can still do the *import*."
   ]
  },
  {
   "cell_type": "markdown",
   "metadata": {},
   "source": [
    "### 4.4 Python Biult-in Modules"
   ]
  },
  {
   "cell_type": "markdown",
   "metadata": {},
   "source": [
    "* You may already `import` modules quite a lot. Let us take a look at the famous `requests` module."
   ]
  },
  {
   "cell_type": "markdown",
   "metadata": {},
   "source": [
    "**Example**"
   ]
  },
  {
   "cell_type": "code",
   "execution_count": 1,
   "metadata": {},
   "outputs": [
    {
     "name": "stdout",
     "output_type": "stream",
     "text": [
      "Enter a URL:http://www.sina.com.cn\n",
      "Download over.\n"
     ]
    }
   ],
   "source": [
    "import os\n",
    "import os.path\n",
    "import requests\n",
    "\n",
    "def download(url):\n",
    "    req = requests.get(url)\n",
    "    if req.status_code == 404:\n",
    "        print 'No such file found at %s' % url\n",
    "        return\n",
    "    filename = url.split('/')[-1]\n",
    "    with open(filename, 'wb') as fobj:\n",
    "        fobj.write(req.content)\n",
    "    print 'Download over.'\n",
    "\n",
    "if __name__ == '__main__':\n",
    "    url = raw_input('Enter a URL:')\n",
    "    download(url)"
   ]
  },
  {
   "cell_type": "markdown",
   "metadata": {},
   "source": [
    "* If you are interested in the `requsts` module, you can learn more from [here](http://docs.python-requests.org/en/master/)."
   ]
  },
  {
   "cell_type": "markdown",
   "metadata": {},
   "source": [
    "## 5. Packages in Python"
   ]
  },
  {
   "cell_type": "markdown",
   "metadata": {},
   "source": [
    "* *Function* helps reuse blocks of code, *Module* helps reuse functions in other programs. In this section, we introduce how to organize modules into **package**."
   ]
  },
  {
   "cell_type": "markdown",
   "metadata": {},
   "source": [
    "* A package is a hierarchical file directory structure that defines a single Python application environment that consists of modules and subpackages and sub-subpackages, and so on."
   ]
  },
  {
   "cell_type": "markdown",
   "metadata": {},
   "source": [
    "* There has many famous and widely used Python packages, [here](https://pythontips.com/2013/07/30/20-python-libraries-you-cant-live-without/) lists a few of them. It is for sure that you will use some of them in the future."
   ]
  },
  {
   "cell_type": "markdown",
   "metadata": {},
   "source": [
    "* We can also build our own Python package. Following example demonstrates how to do. "
   ]
  },
  {
   "cell_type": "markdown",
   "metadata": {},
   "source": [
    "#### Example 6 Create Your Own Package"
   ]
  },
  {
   "cell_type": "markdown",
   "metadata": {},
   "source": [
    "1. We want to create a package called \"GPA Booster\", which includes a set of modules helping students to improve their GPA in various subjects, e.g. Calculus, Linear Algebra, Data Structure, etc.\n",
    "2. Create a folder named as \"GPA-Booster\", and put it under one of directories in `sys.path` so that Python can find your package when you use `import` statement.\n",
    "3. In \"GPA-Booster\" folder, create three .py files, which are Calculus.py, LinearAlgebra.py, DataStructure.py.\n",
    "4. In \"Calculus.py\", define a function like below:\n",
    "```python\n",
    "def Calculus_func():\n",
    "    print \"This function will help you improve Calculus GPA\"\n",
    "```\n",
    "5. Create GPA-Booster/LinearAlgebra.py file and GPA-Booster/DataStructure.py file similarly, and put them the same place as Calculus.py.\n",
    "6. Now, create one more file \"\\__init\\__.py\" in \"GPA-Booster\" folder, GPA-Booster/\\__init\\__.py.\n",
    "7. To make all of your functions available when you've imported GPA-Booster package, you need to put below statements in \\__init\\__.py.\n",
    "```python\n",
    "from Calculus import Calculus_func\n",
    "from LinearAlgebra import LinearAlgebra_func\n",
    "from DataStructure import DataStructure_func\n",
    "__all__ = [Calculus_func, LinearAlgebra_func, DataStructure_func]\n",
    "```\n",
    "8. After you add these lines to \\__init\\__.py, you have all of these functions available when you import GPA-Booster package."
   ]
  },
  {
   "cell_type": "markdown",
   "metadata": {},
   "source": [
    "* If `__init__.py` file contains a list called `__all__`, then only the names listed there will be public. In the above example, we include all of the three functions relating to the three modules."
   ]
  },
  {
   "cell_type": "code",
   "execution_count": 26,
   "metadata": {
    "collapsed": true
   },
   "outputs": [],
   "source": [
    "import GPA-Booster # import the package\n",
    "GPA-Booster.Calculus_func() # call the function\n",
    "GPA-Booster.LinearAlgebra_func()\n",
    "GPA-Booster.DataStructure_func()"
   ]
  },
  {
   "cell_type": "markdown",
   "metadata": {},
   "source": [
    "* Below image shows the whole process"
   ]
  },
  {
   "cell_type": "markdown",
   "metadata": {},
   "source": [
    " <img src=\"package.png\" width = \"480\" height = \"250\" alt=\"图片名称\" align=center />"
   ]
  },
  {
   "cell_type": "markdown",
   "metadata": {},
   "source": [
    "* You can see that after importing the package once, the source code files (\"`.py`\") are compiled, and `.pyc` files are generated. Actually, after the compilation, all the `.py` source files will not affect the future `import` operation. "
   ]
  }
 ],
 "metadata": {
  "kernelspec": {
   "display_name": "Python 2",
   "language": "python",
   "name": "python2"
  },
  "language_info": {
   "codemirror_mode": {
    "name": "ipython",
    "version": 2
   },
   "file_extension": ".py",
   "mimetype": "text/x-python",
   "name": "python",
   "nbconvert_exporter": "python",
   "pygments_lexer": "ipython2",
   "version": "2.7.13"
  }
 },
 "nbformat": 4,
 "nbformat_minor": 1
}
